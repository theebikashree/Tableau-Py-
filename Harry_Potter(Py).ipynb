{
 "cells": [
  {
   "cell_type": "code",
   "execution_count": 39,
   "metadata": {},
   "outputs": [],
   "source": [
    "import pandas as pd"
   ]
  },
  {
   "cell_type": "code",
   "execution_count": 40,
   "metadata": {},
   "outputs": [],
   "source": [
    "import pandas as pd\n",
    "df = pd.read_csv(r\"C:\\Users\\ADMIN\\Downloads\\Harry_Potter_Movies\\Movies.csv\")"
   ]
  },
  {
   "cell_type": "code",
   "execution_count": 41,
   "metadata": {},
   "outputs": [
    {
     "name": "stdout",
     "output_type": "stream",
     "text": [
      "      Budget  Box Office  Budget (Billion)  Box Office (Billion)\n",
      "0  125000000  1002000000             0.125                1.0020\n",
      "1  100000000   880300000             0.100                0.8803\n",
      "2  130000000   796700000             0.130                0.7967\n",
      "3  150000000   896400000             0.150                0.8964\n",
      "4  150000000   942000000             0.150                0.9420\n",
      "5  250000000   943200000             0.250                0.9432\n",
      "6  200000000   976900000             0.200                0.9769\n",
      "7  250000000  1342000000             0.250                1.3420\n"
     ]
    },
    {
     "name": "stderr",
     "output_type": "stream",
     "text": [
      "<>:1: SyntaxWarning: invalid escape sequence '\\$'\n",
      "<>:2: SyntaxWarning: invalid escape sequence '\\$'\n",
      "<>:1: SyntaxWarning: invalid escape sequence '\\$'\n",
      "<>:2: SyntaxWarning: invalid escape sequence '\\$'\n",
      "C:\\Users\\ADMIN\\AppData\\Local\\Temp\\ipykernel_352\\2308350811.py:1: SyntaxWarning: invalid escape sequence '\\$'\n",
      "  df[\"Budget\"] = df[\"Budget\"].replace({'\\$': '', ',': ''}, regex=True).astype(int)\n",
      "C:\\Users\\ADMIN\\AppData\\Local\\Temp\\ipykernel_352\\2308350811.py:2: SyntaxWarning: invalid escape sequence '\\$'\n",
      "  df[\"Box Office\"] = df[\"Box Office\"].replace({'\\$': '', ',': ''}, regex=True).astype(int)\n"
     ]
    }
   ],
   "source": [
    "df[\"Budget\"] = df[\"Budget\"].replace({'\\$': '', ',': ''}, regex=True).astype(int)\n",
    "df[\"Box Office\"] = df[\"Box Office\"].replace({'\\$': '', ',': ''}, regex=True).astype(int)\n",
    "\n",
    "df[\"Budget (Billion)\"] = df[\"Budget\"] / 1_000_000_000\n",
    "df[\"Box Office (Billion)\"] = df[\"Box Office\"] / 1_000_000_000\n",
    "\n",
    "print(df[[\"Budget\", \"Box Office\", \"Budget (Billion)\", \"Box Office (Billion)\"]])"
   ]
  },
  {
   "cell_type": "code",
   "execution_count": 42,
   "metadata": {},
   "outputs": [
    {
     "name": "stdout",
     "output_type": "stream",
     "text": [
      "   Movie ID                                  Movie Title  Release Year  Runtime     Budget  Box Office  Budget (Billion)  Box Office (Billion)\n",
      "0         1     Harry Potter and the Philosopher's Stone          2001      152  125000000  1002000000             0.125                1.0020\n",
      "1         2      Harry Potter and the Chamber of Secrets          2002      161  100000000   880300000             0.100                0.8803\n",
      "2         3     Harry Potter and the Prisoner of Azkaban          2004      142  130000000   796700000             0.130                0.7967\n",
      "3         4          Harry Potter and the Goblet of Fire          2005      157  150000000   896400000             0.150                0.8964\n",
      "4         5    Harry Potter and the Order of the Phoenix          2007      138  150000000   942000000             0.150                0.9420\n",
      "5         6       Harry Potter and the Half-Blood Prince          2009      153  250000000   943200000             0.250                0.9432\n",
      "6         7  Harry Potter and the Deathly Hallows Part 1          2010      146  200000000   976900000             0.200                0.9769\n",
      "7         8  Harry Potter and the Deathly Hallows Part 2          2011      130  250000000  1342000000             0.250                1.3420\n"
     ]
    }
   ],
   "source": [
    "print( df.to_string())"
   ]
  },
  {
   "cell_type": "code",
   "execution_count": 43,
   "metadata": {},
   "outputs": [
    {
     "name": "stdout",
     "output_type": "stream",
     "text": [
      "<class 'pandas.core.frame.DataFrame'>\n",
      "RangeIndex: 8 entries, 0 to 7\n",
      "Data columns (total 8 columns):\n",
      " #   Column                Non-Null Count  Dtype  \n",
      "---  ------                --------------  -----  \n",
      " 0   Movie ID              8 non-null      int64  \n",
      " 1   Movie Title           8 non-null      object \n",
      " 2   Release Year          8 non-null      int64  \n",
      " 3   Runtime               8 non-null      int64  \n",
      " 4   Budget                8 non-null      int64  \n",
      " 5   Box Office            8 non-null      int64  \n",
      " 6   Budget (Billion)      8 non-null      float64\n",
      " 7   Box Office (Billion)  8 non-null      float64\n",
      "dtypes: float64(2), int64(5), object(1)\n",
      "memory usage: 644.0+ bytes\n",
      "None\n"
     ]
    }
   ],
   "source": [
    "print(df.info())"
   ]
  },
  {
   "cell_type": "code",
   "execution_count": 44,
   "metadata": {},
   "outputs": [],
   "source": [
    "missing_values = df.isna().sum()"
   ]
  },
  {
   "cell_type": "code",
   "execution_count": 45,
   "metadata": {},
   "outputs": [
    {
     "name": "stdout",
     "output_type": "stream",
     "text": [
      "\n",
      "Missing Values in Each Column:\n",
      " Movie ID                0\n",
      "Movie Title             0\n",
      "Release Year            0\n",
      "Runtime                 0\n",
      "Budget                  0\n",
      "Box Office              0\n",
      "Budget (Billion)        0\n",
      "Box Office (Billion)    0\n",
      "dtype: int64\n",
      "\n",
      "Duplicate Movie IDs: 0\n"
     ]
    }
   ],
   "source": [
    "print(\"\\nMissing Values in Each Column:\\n\", missing_values)\n",
    "print(\"\\nDuplicate Movie IDs:\", df.duplicated('Movie ID').sum())\n"
   ]
  },
  {
   "cell_type": "code",
   "execution_count": 46,
   "metadata": {},
   "outputs": [
    {
     "name": "stdout",
     "output_type": "stream",
     "text": [
      "\n",
      "Data Summary:\n",
      "        Movie ID  Release Year     Runtime        Budget    Box Office  \\\n",
      "count   8.00000      8.000000    8.000000  8.000000e+00  8.000000e+00   \n",
      "mean    4.50000   2006.125000  147.375000  1.693750e+08  9.724375e+08   \n",
      "std     2.44949      3.720119   10.363914  5.734840e+07  1.623076e+08   \n",
      "min     1.00000   2001.000000  130.000000  1.000000e+08  7.967000e+08   \n",
      "25%     2.75000   2003.500000  141.000000  1.287500e+08  8.923750e+08   \n",
      "50%     4.50000   2006.000000  149.000000  1.500000e+08  9.426000e+08   \n",
      "75%     6.25000   2009.250000  154.000000  2.125000e+08  9.831750e+08   \n",
      "max     8.00000   2011.000000  161.000000  2.500000e+08  1.342000e+09   \n",
      "\n",
      "       Budget (Billion)  Box Office (Billion)  \n",
      "count          8.000000              8.000000  \n",
      "mean           0.169375              0.972438  \n",
      "std            0.057348              0.162308  \n",
      "min            0.100000              0.796700  \n",
      "25%            0.128750              0.892375  \n",
      "50%            0.150000              0.942600  \n",
      "75%            0.212500              0.983175  \n",
      "max            0.250000              1.342000  \n"
     ]
    }
   ],
   "source": [
    "print(\"\\nData Summary:\\n\", df.describe())\n"
   ]
  },
  {
   "cell_type": "code",
   "execution_count": 47,
   "metadata": {},
   "outputs": [],
   "source": [
    "\n",
    "df.to_csv(r'C:\\Users\\ADMIN\\Downloads\\Harry_Potter.csv', index=False)\n",
    "df.to_csv(r'C:\\Users\\ADMIN\\Downloads\\python\\Harry_Potter.csv', index=False)"
   ]
  },
  {
   "cell_type": "code",
   "execution_count": 48,
   "metadata": {},
   "outputs": [
    {
     "name": "stdout",
     "output_type": "stream",
     "text": [
      "      Budget  Box Office\n",
      "0  125000000  1002000000\n",
      "1  100000000   880300000\n",
      "2  130000000   796700000\n",
      "3  150000000   896400000\n",
      "4  150000000   942000000\n",
      "5  250000000   943200000\n",
      "6  200000000   976900000\n",
      "7  250000000  1342000000\n"
     ]
    }
   ],
   "source": [
    "print(df[[\"Budget\", \"Box Office\"]].to_string()) \n"
   ]
  }
 ],
 "metadata": {
  "kernelspec": {
   "display_name": "Python 3",
   "language": "python",
   "name": "python3"
  },
  "language_info": {
   "codemirror_mode": {
    "name": "ipython",
    "version": 3
   },
   "file_extension": ".py",
   "mimetype": "text/x-python",
   "name": "python",
   "nbconvert_exporter": "python",
   "pygments_lexer": "ipython3",
   "version": "3.13.0"
  }
 },
 "nbformat": 4,
 "nbformat_minor": 2
}
