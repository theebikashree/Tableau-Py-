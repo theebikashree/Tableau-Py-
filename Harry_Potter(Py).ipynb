{
 "cells": [
  {
   "cell_type": "code",
   "execution_count": 1,
   "metadata": {},
   "outputs": [],
   "source": [
    "import pandas as pd"
   ]
  },
  {
   "cell_type": "code",
   "execution_count": 2,
   "metadata": {},
   "outputs": [],
   "source": [
    "import pandas as pd\n",
    "df = pd.read_csv(r\"C:\\Users\\ADMIN\\Downloads\\Harry_Potter_Movies\\Movies.csv\")"
   ]
  },
  {
   "cell_type": "code",
   "execution_count": 3,
   "metadata": {},
   "outputs": [
    {
     "name": "stdout",
     "output_type": "stream",
     "text": [
      "   Movie ID                                  Movie Title  Release Year  Runtime         Budget       Box Office\n",
      "0         1     Harry Potter and the Philosopher's Stone          2001      152  $125,000,000   $1,002,000,000 \n",
      "1         2      Harry Potter and the Chamber of Secrets          2002      161  $100,000,000     $880,300,000 \n",
      "2         3     Harry Potter and the Prisoner of Azkaban          2004      142  $130,000,000     $796,700,000 \n",
      "3         4          Harry Potter and the Goblet of Fire          2005      157  $150,000,000     $896,400,000 \n",
      "4         5    Harry Potter and the Order of the Phoenix          2007      138  $150,000,000     $942,000,000 \n",
      "5         6       Harry Potter and the Half-Blood Prince          2009      153  $250,000,000     $943,200,000 \n",
      "6         7  Harry Potter and the Deathly Hallows Part 1          2010      146  $200,000,000     $976,900,000 \n",
      "7         8  Harry Potter and the Deathly Hallows Part 2          2011      130  $250,000,000   $1,342,000,000 \n"
     ]
    }
   ],
   "source": [
    "print( df.to_string())"
   ]
  },
  {
   "cell_type": "code",
   "execution_count": 4,
   "metadata": {},
   "outputs": [
    {
     "name": "stdout",
     "output_type": "stream",
     "text": [
      "<class 'pandas.core.frame.DataFrame'>\n",
      "RangeIndex: 8 entries, 0 to 7\n",
      "Data columns (total 6 columns):\n",
      " #   Column        Non-Null Count  Dtype \n",
      "---  ------        --------------  ----- \n",
      " 0   Movie ID      8 non-null      int64 \n",
      " 1   Movie Title   8 non-null      object\n",
      " 2   Release Year  8 non-null      int64 \n",
      " 3   Runtime       8 non-null      int64 \n",
      " 4   Budget        8 non-null      object\n",
      " 5   Box Office    8 non-null      object\n",
      "dtypes: int64(3), object(3)\n",
      "memory usage: 516.0+ bytes\n",
      "None\n"
     ]
    }
   ],
   "source": [
    "print(df.info())"
   ]
  },
  {
   "cell_type": "code",
   "execution_count": 5,
   "metadata": {},
   "outputs": [],
   "source": [
    "missing_values = df.isna().sum()"
   ]
  },
  {
   "cell_type": "code",
   "execution_count": 6,
   "metadata": {},
   "outputs": [
    {
     "name": "stdout",
     "output_type": "stream",
     "text": [
      "\n",
      "Missing Values in Each Column:\n",
      " Movie ID        0\n",
      "Movie Title     0\n",
      "Release Year    0\n",
      "Runtime         0\n",
      "Budget          0\n",
      "Box Office      0\n",
      "dtype: int64\n",
      "\n",
      "Duplicate Movie IDs: 0\n"
     ]
    }
   ],
   "source": [
    "print(\"\\nMissing Values in Each Column:\\n\", missing_values)\n",
    "print(\"\\nDuplicate Movie IDs:\", df.duplicated('Movie ID').sum())\n"
   ]
  },
  {
   "cell_type": "code",
   "execution_count": 7,
   "metadata": {},
   "outputs": [
    {
     "name": "stdout",
     "output_type": "stream",
     "text": [
      "\n",
      "Data Summary:\n",
      "        Movie ID  Release Year     Runtime\n",
      "count   8.00000      8.000000    8.000000\n",
      "mean    4.50000   2006.125000  147.375000\n",
      "std     2.44949      3.720119   10.363914\n",
      "min     1.00000   2001.000000  130.000000\n",
      "25%     2.75000   2003.500000  141.000000\n",
      "50%     4.50000   2006.000000  149.000000\n",
      "75%     6.25000   2009.250000  154.000000\n",
      "max     8.00000   2011.000000  161.000000\n"
     ]
    }
   ],
   "source": [
    "print(\"\\nData Summary:\\n\", df.describe())\n"
   ]
  },
  {
   "cell_type": "code",
   "execution_count": 8,
   "metadata": {},
   "outputs": [],
   "source": [
    "\n",
    "df.to_csv(r'C:\\Users\\ADMIN\\Downloads\\Harry_Potter.csv', index=False)\n",
    "df.to_csv(r'C:\\Users\\ADMIN\\Downloads\\python\\Harry_Potter.csv', index=False)"
   ]
  }
 ],
 "metadata": {
  "kernelspec": {
   "display_name": "Python 3",
   "language": "python",
   "name": "python3"
  },
  "language_info": {
   "codemirror_mode": {
    "name": "ipython",
    "version": 3
   },
   "file_extension": ".py",
   "mimetype": "text/x-python",
   "name": "python",
   "nbconvert_exporter": "python",
   "pygments_lexer": "ipython3",
   "version": "3.13.0"
  }
 },
 "nbformat": 4,
 "nbformat_minor": 2
}
